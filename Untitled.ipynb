{
 "cells": [
  {
   "cell_type": "code",
   "execution_count": 1,
   "id": "05595fbb-d278-405e-8eef-553f6d26034f",
   "metadata": {},
   "outputs": [
    {
     "name": "stdout",
     "output_type": "stream",
     "text": [
      "Model loaded successfully!\n"
     ]
    }
   ],
   "source": [
    "import pickle\n",
    "import surprise\n",
    "\n",
    "file_path = \"svd_model.pkl\"\n",
    "\n",
    "try:\n",
    "    with open(file_path, \"rb\") as f:\n",
    "        model = pickle.load(f)\n",
    "    print(\"Model loaded successfully!\")\n",
    "except Exception as e:\n",
    "    print(f\"Error loading model: {e}\")\n"
   ]
  },
  {
   "cell_type": "code",
   "execution_count": 2,
   "id": "cc8e27dc-49d9-43a5-90d0-02c786c55f75",
   "metadata": {},
   "outputs": [],
   "source": [
    "import dill\n",
    "with open('recommender_system_package.pkl', 'rb') as f:\n",
    "    recommender_system = dill.load(f)\n"
   ]
  },
  {
   "cell_type": "code",
   "execution_count": 5,
   "id": "0931b751-a7c7-4919-9a84-653c7a8c9fbb",
   "metadata": {},
   "outputs": [
    {
     "data": {
      "text/plain": [
       "{'function': <function __main__.recommend_anime_tsne(input_anime, df, tsne_df, top_n=10)>,\n",
       " 'df1':        anime_id                                               name  \\\n",
       " 0         32281                                     kimi no na wa.   \n",
       " 1          5114                   fullmetal alchemist: brotherhood   \n",
       " 2         28977                                            gintama   \n",
       " 3          9253                                        steins;gate   \n",
       " 4          9969                                           gintama'   \n",
       " ...         ...                                                ...   \n",
       " 12289      9316       toushindai my lover: minami tai mecha-minami   \n",
       " 12290      5543                                        under world   \n",
       " 12291      5621                     violence gekiga david no hoshi   \n",
       " 12292      6133  violence gekiga shin david no hoshi: inma dens...   \n",
       " 12293     26081                     yasuji no pornorama: yacchimae   \n",
       " \n",
       "                                                    genre   type  episodes  \\\n",
       " 0         ['drama', 'romance', 'school', 'supernatural']  movie         1   \n",
       " 1      ['action', 'adventure', 'drama', 'fantasy', 'm...     tv        64   \n",
       " 2      ['action', 'comedy', 'historical', 'parody', '...     tv        51   \n",
       " 3                                 ['sci-fi', 'thriller']     tv        24   \n",
       " 4      ['action', 'comedy', 'historical', 'parody', '...     tv        51   \n",
       " ...                                                  ...    ...       ...   \n",
       " 12289                                         ['hentai']    ova         1   \n",
       " 12290                                         ['hentai']    ova         1   \n",
       " 12291                                         ['hentai']    ova         4   \n",
       " 12292                                         ['hentai']    ova         1   \n",
       " 12293                                         ['hentai']  movie         1   \n",
       " \n",
       "        rating  members  rounded_rating  \\\n",
       " 0        9.37   200630               9   \n",
       " 1        9.26   793665               9   \n",
       " 2        9.25   114262               9   \n",
       " 3        9.17   673572               9   \n",
       " 4        9.16   151266               9   \n",
       " ...       ...      ...             ...   \n",
       " 12289    4.15      211               4   \n",
       " 12290    4.28      183               4   \n",
       " 12291    4.88      219               5   \n",
       " 12292    4.98      175               5   \n",
       " 12293    5.46      142               5   \n",
       " \n",
       "                                           selected_feats  cluster_label  \n",
       " 0      ['drama', 'romance', 'school', 'supernatural']...              0  \n",
       " 1      ['action', 'adventure', 'drama', 'fantasy', 'm...              0  \n",
       " 2      ['action', 'comedy', 'historical', 'parody', '...              3  \n",
       " 3       ['sci-fi', 'thriller'] tv ['sci-fi', 'thriller']              3  \n",
       " 4      ['action', 'comedy', 'historical', 'parody', '...              3  \n",
       " ...                                                  ...            ...  \n",
       " 12289                          ['hentai'] ova ['hentai']              4  \n",
       " 12290                          ['hentai'] ova ['hentai']              4  \n",
       " 12291                          ['hentai'] ova ['hentai']              4  \n",
       " 12292                          ['hentai'] ova ['hentai']              4  \n",
       " 12293                        ['hentai'] movie ['hentai']              4  \n",
       " \n",
       " [12294 rows x 10 columns],\n",
       " 'df2':            TSNE1      TSNE2  cluster_label\n",
       " 0     -31.731291 -12.126097              0\n",
       " 1      -6.903779  -0.918451              0\n",
       " 2      45.387089  30.824600              3\n",
       " 3      36.338570  42.697941              3\n",
       " 4      45.387089  30.824600              3\n",
       " ...          ...        ...            ...\n",
       " 12289  68.745125 -10.706456              4\n",
       " 12290  68.745125 -10.706456              4\n",
       " 12291  68.745125 -10.706456              4\n",
       " 12292  68.745125 -10.706456              4\n",
       " 12293  63.197243  -3.963556              4\n",
       " \n",
       " [12294 rows x 3 columns]}"
      ]
     },
     "execution_count": 5,
     "metadata": {},
     "output_type": "execute_result"
    }
   ],
   "source": [
    "recommender_system"
   ]
  },
  {
   "cell_type": "code",
   "execution_count": 9,
   "id": "612f64c5-2a0b-4890-9466-e82b066882a9",
   "metadata": {},
   "outputs": [
    {
     "data": {
      "text/plain": [
       "<surprise.prediction_algorithms.matrix_factorization.SVD at 0x274cb756360>"
      ]
     },
     "execution_count": 9,
     "metadata": {},
     "output_type": "execute_result"
    }
   ],
   "source": [
    " model\n"
   ]
  },
  {
   "cell_type": "code",
   "execution_count": null,
   "id": "6d95e646-58c5-4667-b62b-c583fa21c6a1",
   "metadata": {},
   "outputs": [],
   "source": [
    "import streamlit as st\n",
    "import pandas as pd\n",
    "import pickle\n",
    "import dill\n",
    "\n",
    "# Load Data\n",
    "train = pd.read_csv('train.csv')\n",
    "test = pd.read_csv('test.csv')\n",
    "anime = pd.read_csv('anime.csv')\n",
    "\n",
    "# Load Models\n",
    "with open('svd_model.pkl', 'rb') as f:\n",
    "    svd_model = pickle.load(f)\n",
    "\n",
    "with open('recommender_system_package.pkl', 'rb') as f:\n",
    "    recommender_system = dill.load(f)\n",
    "\n",
    "# Extract required components from the recommender package\n",
    "recommendation_function = recommender_system[\"function\"]\n",
    "anime_data = recommender_system[\"df1\"]\n",
    "ratings_data = recommender_system[\"df2\"]\n",
    "\n",
    "# Extract anime names\n",
    "anime_names = anime_data['name'].dropna().unique().tolist()\n",
    "\n",
    "st.title(\"Anime Recommender\")\n",
    "\n",
    "# User Input using selectbox\n",
    "user_input1 = st.selectbox(\"Select Anime Name 1:\", anime_names, key=\"anime1\")\n",
    "user_input2 = st.selectbox(\"Select Anime Name 2:\", anime_names, key=\"anime2\")\n",
    "user_input3 = st.selectbox(\"Select Anime Name 3:\", anime_names, key=\"anime3\")\n",
    "\n",
    "# Model Selection\n",
    "models = st.radio(\"Choose algorithm\", options=['Content-Based', 'Collaborative-Based'])\n",
    "\n",
    "if st.button('Recommend Anime!'):\n",
    "    st.subheader(\"🔍 Recommendation Results\")\n",
    "\n",
    "    if models == 'Content-Based':\n",
    "        # Handle inputs one by one for content-based filtering\n",
    "        recommended_anime = []\n",
    "        for user_input in [user_input1, user_input2, user_input3]:\n",
    "            result = recommendation_function(user_input, anime_data, ratings_data)\n",
    "            if isinstance(result, list):  # If the function returns a list, extend the results\n",
    "                recommended_anime.extend(result)\n",
    "            else:  # If it returns a single anime name or other structure, append it directly\n",
    "                recommended_anime.append(result)\n",
    "        \n",
    "        st.write(f\"**Model Used: Content-Based Filtering**\")\n",
    "        st.write(\"➡️ Recommended Anime:\")\n",
    "        for anime in recommended_anime:\n",
    "            st.write(f\"- {anime}\")\n",
    "\n",
    "    elif models == \"Collaborative-Based\":\n",
    "        st.write(f\"**Model Used: Collaborative Filtering (SVD)**\")\n",
    "\n",
    "        # Get anime IDs for collaborative filtering (use anime names to get corresponding IDs)\n",
    "        anime_ids = anime_data[anime_data['name'].isin([user_input1, user_input2, user_input3])]['anime_id'].tolist()\n",
    "        if not anime_ids:\n",
    "            st.write(\"❌ No matching anime found. Try different selections.\")\n",
    "        else:\n",
    "            # Simulate user ID (assuming a new user with ID 9999)\n",
    "            user_id = 9999  # In a real system, you'd track actual users\n",
    "\n",
    "            recommended_anime = []\n",
    "            for anime_id in anime_ids:\n",
    "                try:\n",
    "                    # Predict the rating for the anime for this user\n",
    "                    predicted_rating = svd_model.predict(user_id, anime_id).est  # Get estimated rating\n",
    "                    recommended_anime.append((anime_id, predicted_rating))\n",
    "                except Exception as e:\n",
    "                    st.write(f\"⚠️ Error predicting rating for anime ID {anime_id}: {e}\")\n",
    "\n",
    "            # Sort anime by predicted rating in descending order\n",
    "            recommended_anime.sort(key=lambda x: x[1], reverse=True)\n",
    "\n",
    "            # Display the recommended anime names based on highest predicted rating\n",
    "            st.write(\"➡️ Recommended Anime (Highest Predicted Ratings):\")\n",
    "            for anime_id, rating in recommended_anime:\n",
    "                anime_name = anime_data.loc[anime_data['anime_id'] == anime_id, 'name'].values[0]\n",
    "                st.write(f\"- {anime_name} (Predicted Rating: {rating:.2f})\")\n",
    "\n",
    "else:\n",
    "    st.write(\"Click on 'Recommend Anime!' to get recommendations.\")\n"
   ]
  },
  {
   "cell_type": "code",
   "execution_count": 7,
   "id": "b25aa827-e477-4bce-b960-9ecfc35dc899",
   "metadata": {},
   "outputs": [
    {
     "name": "stdout",
     "output_type": "stream",
     "text": [
      "Key: function\n",
      "Type: <class 'function'>\n",
      "This is a function.\n",
      "\n",
      "\n",
      "Key: df1\n",
      "Type: <class 'pandas.core.frame.DataFrame'>\n",
      "DataFrame shape: (12294, 10)\n",
      "DataFrame columns:\n",
      "Index(['anime_id', 'name', 'genre', 'type', 'episodes', 'rating', 'members',\n",
      "       'rounded_rating', 'selected_feats', 'cluster_label'],\n",
      "      dtype='object')\n",
      "\n",
      "\n",
      "Key: df2\n",
      "Type: <class 'pandas.core.frame.DataFrame'>\n",
      "DataFrame shape: (12294, 3)\n",
      "DataFrame columns:\n",
      "Index(['TSNE1', 'TSNE2', 'cluster_label'], dtype='object')\n",
      "\n",
      "\n",
      "Function signature:\n",
      "<function recommend_anime_tsne at 0x0000010C95BA79C0>\n"
     ]
    }
   ],
   "source": [
    "import dill\n",
    "import pandas as pd\n",
    "\n",
    "# Load the dill file\n",
    "with open('recommender_system_package.pkl', 'rb') as f:\n",
    "    recommender_system = dill.load(f)\n",
    "\n",
    "# Inspect the contents\n",
    "for key, value in recommender_system.items():\n",
    "    print(f\"Key: {key}\")\n",
    "    print(f\"Type: {type(value)}\")\n",
    "    if isinstance(value, pd.DataFrame):\n",
    "        print(f\"DataFrame shape: {value.shape}\")\n",
    "        print(\"DataFrame columns:\")\n",
    "        print(value.columns)\n",
    "    elif callable(value):\n",
    "        print(\"This is a function.\")\n",
    "    else:\n",
    "        print(f\"Value: {value}\")\n",
    "    print(\"\\n\")\n",
    "\n",
    "# Example function signature display without inspect.getsource\n",
    "if \"function\" in recommender_system:\n",
    "    recommendation_function = recommender_system[\"function\"]\n",
    "    print(\"Function signature:\")\n",
    "    print(recommendation_function)\n"
   ]
  },
  {
   "cell_type": "code",
   "execution_count": 3,
   "id": "f27cf156-58ec-4133-9cac-c15bd01ca546",
   "metadata": {},
   "outputs": [],
   "source": [
    "import pandas as pd\n",
    "train = pd.read_csv('train.csv')\n",
    "anime = pd.read_csv('anime.csv')"
   ]
  },
  {
   "cell_type": "code",
   "execution_count": 5,
   "id": "3601aee0-b921-4205-a95f-8731b1feeb49",
   "metadata": {},
   "outputs": [],
   "source": [
    "user_id =  train['user_id']"
   ]
  },
  {
   "cell_type": "code",
   "execution_count": 7,
   "id": "bd709d95-f2bd-4b5a-8ee8-b7c2176e498e",
   "metadata": {},
   "outputs": [
    {
     "data": {
      "text/plain": [
       "0              1\n",
       "1              1\n",
       "2              1\n",
       "3              2\n",
       "4              3\n",
       "           ...  \n",
       "5703550    73515\n",
       "5703551    73515\n",
       "5703552    73515\n",
       "5703553    73515\n",
       "5703554    73516\n",
       "Name: user_id, Length: 5703555, dtype: int64"
      ]
     },
     "execution_count": 7,
     "metadata": {},
     "output_type": "execute_result"
    }
   ],
   "source": [
    "user_id"
   ]
  },
  {
   "cell_type": "code",
   "execution_count": 9,
   "id": "e3d6f41b-ad52-4a13-a8b6-3aa37ce51bdb",
   "metadata": {},
   "outputs": [
    {
     "data": {
      "text/html": [
       "<div>\n",
       "<style scoped>\n",
       "    .dataframe tbody tr th:only-of-type {\n",
       "        vertical-align: middle;\n",
       "    }\n",
       "\n",
       "    .dataframe tbody tr th {\n",
       "        vertical-align: top;\n",
       "    }\n",
       "\n",
       "    .dataframe thead th {\n",
       "        text-align: right;\n",
       "    }\n",
       "</style>\n",
       "<table border=\"1\" class=\"dataframe\">\n",
       "  <thead>\n",
       "    <tr style=\"text-align: right;\">\n",
       "      <th></th>\n",
       "      <th>anime_id</th>\n",
       "      <th>name</th>\n",
       "      <th>genre</th>\n",
       "      <th>type</th>\n",
       "      <th>episodes</th>\n",
       "      <th>rating</th>\n",
       "      <th>members</th>\n",
       "    </tr>\n",
       "  </thead>\n",
       "  <tbody>\n",
       "    <tr>\n",
       "      <th>0</th>\n",
       "      <td>32281</td>\n",
       "      <td>Kimi no Na wa.</td>\n",
       "      <td>Drama, Romance, School, Supernatural</td>\n",
       "      <td>Movie</td>\n",
       "      <td>1</td>\n",
       "      <td>9.37</td>\n",
       "      <td>200630</td>\n",
       "    </tr>\n",
       "    <tr>\n",
       "      <th>1</th>\n",
       "      <td>5114</td>\n",
       "      <td>Fullmetal Alchemist: Brotherhood</td>\n",
       "      <td>Action, Adventure, Drama, Fantasy, Magic, Mili...</td>\n",
       "      <td>TV</td>\n",
       "      <td>64</td>\n",
       "      <td>9.26</td>\n",
       "      <td>793665</td>\n",
       "    </tr>\n",
       "    <tr>\n",
       "      <th>2</th>\n",
       "      <td>28977</td>\n",
       "      <td>Gintama°</td>\n",
       "      <td>Action, Comedy, Historical, Parody, Samurai, S...</td>\n",
       "      <td>TV</td>\n",
       "      <td>51</td>\n",
       "      <td>9.25</td>\n",
       "      <td>114262</td>\n",
       "    </tr>\n",
       "    <tr>\n",
       "      <th>3</th>\n",
       "      <td>9253</td>\n",
       "      <td>Steins;Gate</td>\n",
       "      <td>Sci-Fi, Thriller</td>\n",
       "      <td>TV</td>\n",
       "      <td>24</td>\n",
       "      <td>9.17</td>\n",
       "      <td>673572</td>\n",
       "    </tr>\n",
       "    <tr>\n",
       "      <th>4</th>\n",
       "      <td>9969</td>\n",
       "      <td>Gintama&amp;#039;</td>\n",
       "      <td>Action, Comedy, Historical, Parody, Samurai, S...</td>\n",
       "      <td>TV</td>\n",
       "      <td>51</td>\n",
       "      <td>9.16</td>\n",
       "      <td>151266</td>\n",
       "    </tr>\n",
       "  </tbody>\n",
       "</table>\n",
       "</div>"
      ],
      "text/plain": [
       "   anime_id                              name  \\\n",
       "0     32281                    Kimi no Na wa.   \n",
       "1      5114  Fullmetal Alchemist: Brotherhood   \n",
       "2     28977                          Gintama°   \n",
       "3      9253                       Steins;Gate   \n",
       "4      9969                     Gintama&#039;   \n",
       "\n",
       "                                               genre   type episodes  rating  \\\n",
       "0               Drama, Romance, School, Supernatural  Movie        1    9.37   \n",
       "1  Action, Adventure, Drama, Fantasy, Magic, Mili...     TV       64    9.26   \n",
       "2  Action, Comedy, Historical, Parody, Samurai, S...     TV       51    9.25   \n",
       "3                                   Sci-Fi, Thriller     TV       24    9.17   \n",
       "4  Action, Comedy, Historical, Parody, Samurai, S...     TV       51    9.16   \n",
       "\n",
       "   members  \n",
       "0   200630  \n",
       "1   793665  \n",
       "2   114262  \n",
       "3   673572  \n",
       "4   151266  "
      ]
     },
     "execution_count": 9,
     "metadata": {},
     "output_type": "execute_result"
    }
   ],
   "source": [
    "anime.head()"
   ]
  },
  {
   "cell_type": "code",
   "execution_count": 11,
   "id": "f92bb97c-c114-485f-a172-bcba9afc8a03",
   "metadata": {},
   "outputs": [
    {
     "data": {
      "text/html": [
       "<div>\n",
       "<style scoped>\n",
       "    .dataframe tbody tr th:only-of-type {\n",
       "        vertical-align: middle;\n",
       "    }\n",
       "\n",
       "    .dataframe tbody tr th {\n",
       "        vertical-align: top;\n",
       "    }\n",
       "\n",
       "    .dataframe thead th {\n",
       "        text-align: right;\n",
       "    }\n",
       "</style>\n",
       "<table border=\"1\" class=\"dataframe\">\n",
       "  <thead>\n",
       "    <tr style=\"text-align: right;\">\n",
       "      <th></th>\n",
       "      <th>user_id</th>\n",
       "      <th>anime_id</th>\n",
       "      <th>rating</th>\n",
       "    </tr>\n",
       "  </thead>\n",
       "  <tbody>\n",
       "    <tr>\n",
       "      <th>0</th>\n",
       "      <td>1</td>\n",
       "      <td>11617</td>\n",
       "      <td>10</td>\n",
       "    </tr>\n",
       "    <tr>\n",
       "      <th>1</th>\n",
       "      <td>1</td>\n",
       "      <td>11757</td>\n",
       "      <td>10</td>\n",
       "    </tr>\n",
       "    <tr>\n",
       "      <th>2</th>\n",
       "      <td>1</td>\n",
       "      <td>15451</td>\n",
       "      <td>10</td>\n",
       "    </tr>\n",
       "    <tr>\n",
       "      <th>3</th>\n",
       "      <td>2</td>\n",
       "      <td>11771</td>\n",
       "      <td>10</td>\n",
       "    </tr>\n",
       "    <tr>\n",
       "      <th>4</th>\n",
       "      <td>3</td>\n",
       "      <td>20</td>\n",
       "      <td>8</td>\n",
       "    </tr>\n",
       "  </tbody>\n",
       "</table>\n",
       "</div>"
      ],
      "text/plain": [
       "   user_id  anime_id  rating\n",
       "0        1     11617      10\n",
       "1        1     11757      10\n",
       "2        1     15451      10\n",
       "3        2     11771      10\n",
       "4        3        20       8"
      ]
     },
     "execution_count": 11,
     "metadata": {},
     "output_type": "execute_result"
    }
   ],
   "source": [
    "train.head()\n"
   ]
  },
  {
   "cell_type": "code",
   "execution_count": 1,
   "id": "f9223dbd-04a3-44ce-b503-8a9a46fff336",
   "metadata": {},
   "outputs": [],
   "source": [
    "import dill\n",
    "with open('function_dict4.pkl', 'rb') as f:\n",
    "    recommender_system = dill.load(f)"
   ]
  },
  {
   "cell_type": "code",
   "execution_count": 2,
   "id": "bc46fbf5-e6b5-4ca0-b28e-d7e1ee951bc6",
   "metadata": {},
   "outputs": [
    {
     "data": {
      "text/plain": [
       "{'function': <function __main__.recommend_anime_pca30(input_anime, df, pca_df, top_n=10)>,\n",
       " 'df1':        anime_id                                               name  \\\n",
       " 0         32281                                     kimi no na wa.   \n",
       " 1          5114                   fullmetal alchemist: brotherhood   \n",
       " 2         28977                                            gintama   \n",
       " 3          9253                                        steins;gate   \n",
       " 4          9969                                           gintama'   \n",
       " ...         ...                                                ...   \n",
       " 12289      9316       toushindai my lover: minami tai mecha-minami   \n",
       " 12290      5543                                        under world   \n",
       " 12291      5621                     violence gekiga david no hoshi   \n",
       " 12292      6133  violence gekiga shin david no hoshi: inma dens...   \n",
       " 12293     26081                     yasuji no pornorama: yacchimae   \n",
       " \n",
       "                                                    genre   type  episodes  \\\n",
       " 0         ['drama', 'romance', 'school', 'supernatural']  movie         1   \n",
       " 1      ['action', 'adventure', 'drama', 'fantasy', 'm...     tv        64   \n",
       " 2      ['action', 'comedy', 'historical', 'parody', '...     tv        51   \n",
       " 3                                 ['sci-fi', 'thriller']     tv        24   \n",
       " 4      ['action', 'comedy', 'historical', 'parody', '...     tv        51   \n",
       " ...                                                  ...    ...       ...   \n",
       " 12289                                         ['hentai']    ova         1   \n",
       " 12290                                         ['hentai']    ova         1   \n",
       " 12291                                         ['hentai']    ova         4   \n",
       " 12292                                         ['hentai']    ova         1   \n",
       " 12293                                         ['hentai']  movie         1   \n",
       " \n",
       "        rating  members  rounded_rating  \\\n",
       " 0        9.37   200630               9   \n",
       " 1        9.26   793665               9   \n",
       " 2        9.25   114262               9   \n",
       " 3        9.17   673572               9   \n",
       " 4        9.16   151266               9   \n",
       " ...       ...      ...             ...   \n",
       " 12289    4.15      211               4   \n",
       " 12290    4.28      183               4   \n",
       " 12291    4.88      219               5   \n",
       " 12292    4.98      175               5   \n",
       " 12293    5.46      142               5   \n",
       " \n",
       "                                           selected_feats  cluster_label  \n",
       " 0      ['drama', 'romance', 'school', 'supernatural']...              0  \n",
       " 1      ['action', 'adventure', 'drama', 'fantasy', 'm...              0  \n",
       " 2      ['action', 'comedy', 'historical', 'parody', '...              3  \n",
       " 3       ['sci-fi', 'thriller'] tv ['sci-fi', 'thriller']              3  \n",
       " 4      ['action', 'comedy', 'historical', 'parody', '...              3  \n",
       " ...                                                  ...            ...  \n",
       " 12289                          ['hentai'] ova ['hentai']              4  \n",
       " 12290                          ['hentai'] ova ['hentai']              4  \n",
       " 12291                          ['hentai'] ova ['hentai']              4  \n",
       " 12292                          ['hentai'] ova ['hentai']              4  \n",
       " 12293                        ['hentai'] movie ['hentai']              4  \n",
       " \n",
       " [12294 rows x 10 columns],\n",
       " 'df2':            PCA1      PCA2      PCA3      PCA4      PCA5      PCA6      PCA7  \\\n",
       " 0     -0.000522 -0.098009 -0.147558  0.170660 -0.152762 -0.368202 -0.406731   \n",
       " 1     -0.175609  0.208933  0.200499 -0.034370 -0.164310 -0.377437  0.061536   \n",
       " 2     -0.158830  0.259305 -0.175373 -0.076035  0.060584  0.063948 -0.084327   \n",
       " 3     -0.062816  0.324081 -0.149132  0.096013 -0.005427  0.193413 -0.004970   \n",
       " 4     -0.158830  0.259305 -0.175373 -0.076035  0.060584  0.063948 -0.084327   \n",
       " ...         ...       ...       ...       ...       ...       ...       ...   \n",
       " 12289  0.935706  0.083535  0.029868 -0.158221 -0.024699  0.084490  0.056328   \n",
       " 12290  0.935706  0.083535  0.029868 -0.158221 -0.024699  0.084490  0.056328   \n",
       " 12291  0.935706  0.083535  0.029868 -0.158221 -0.024699  0.084490  0.056328   \n",
       " 12292  0.935706  0.083535  0.029868 -0.158221 -0.024699  0.084490  0.056328   \n",
       " 12293  0.811352  0.069334  0.053169 -0.125031 -0.024381  0.060926  0.046791   \n",
       " \n",
       "            PCA8      PCA9     PCA10  ...     PCA22     PCA23     PCA24  \\\n",
       " 0      0.158890 -0.093782  0.257574  ... -0.144194  0.161384  0.122078   \n",
       " 1     -0.046143  0.048427  0.081276  ...  0.119547  0.007313  0.048737   \n",
       " 2     -0.134021 -0.005972 -0.214079  ...  0.089169  0.372483 -0.074920   \n",
       " 3      0.135678 -0.018346 -0.027280  ...  0.088343  0.007172 -0.078060   \n",
       " 4     -0.134021 -0.005972 -0.214079  ...  0.089169  0.372483 -0.074920   \n",
       " ...         ...       ...       ...  ...       ...       ...       ...   \n",
       " 12289 -0.010999  0.057436  0.023537  ...  0.003556 -0.005346  0.003008   \n",
       " 12290 -0.010999  0.057436  0.023537  ...  0.003556 -0.005346  0.003008   \n",
       " 12291 -0.010999  0.057436  0.023537  ...  0.003556 -0.005346  0.003008   \n",
       " 12292 -0.010999  0.057436  0.023537  ...  0.003556 -0.005346  0.003008   \n",
       " 12293 -0.050076  0.090795 -0.043059  ... -0.032685  0.014627  0.089458   \n",
       " \n",
       "           PCA25     PCA26     PCA27     PCA28     PCA29     PCA30  \\\n",
       " 0     -0.057479  0.040963 -0.063794 -0.037931 -0.001942 -0.105335   \n",
       " 1     -0.131738 -0.039101  0.051196  0.368337 -0.058729  0.018834   \n",
       " 2      0.101758 -0.009877 -0.110161  0.023146  0.031782  0.015791   \n",
       " 3     -0.009717  0.007208 -0.027584  0.002825  0.048465 -0.040445   \n",
       " 4      0.101758 -0.009877 -0.110161  0.023146  0.031782  0.015791   \n",
       " ...         ...       ...       ...       ...       ...       ...   \n",
       " 12289  0.009693  0.003397 -0.016530  0.004497 -0.004307 -0.007527   \n",
       " 12290  0.009693  0.003397 -0.016530  0.004497 -0.004307 -0.007527   \n",
       " 12291  0.009693  0.003397 -0.016530  0.004497 -0.004307 -0.007527   \n",
       " 12292  0.009693  0.003397 -0.016530  0.004497 -0.004307 -0.007527   \n",
       " 12293  0.071288  0.143693 -0.074124  0.041113  0.067852 -0.016847   \n",
       " \n",
       "        cluster_label  \n",
       " 0                  0  \n",
       " 1                  0  \n",
       " 2                  3  \n",
       " 3                  3  \n",
       " 4                  3  \n",
       " ...              ...  \n",
       " 12289              4  \n",
       " 12290              4  \n",
       " 12291              4  \n",
       " 12292              4  \n",
       " 12293              4  \n",
       " \n",
       " [12294 rows x 31 columns]}"
      ]
     },
     "execution_count": 2,
     "metadata": {},
     "output_type": "execute_result"
    }
   ],
   "source": [
    "recommender_system"
   ]
  },
  {
   "cell_type": "code",
   "execution_count": 1,
   "id": "bc2bed30-3006-4c73-a4a5-70625b0a9d1f",
   "metadata": {},
   "outputs": [
    {
     "name": "stdout",
     "output_type": "stream",
     "text": [
      "Note: you may need to restart the kernel to use updated packages.\n"
     ]
    },
    {
     "name": "stderr",
     "output_type": "stream",
     "text": [
      "ERROR: Could not find a version that satisfies the requirement streamlit-emoji-shortcodes (from versions: none)\n",
      "\n",
      "[notice] A new release of pip is available: 25.0 -> 25.0.1\n",
      "[notice] To update, run: python.exe -m pip install --upgrade pip\n",
      "ERROR: No matching distribution found for streamlit-emoji-shortcodes\n"
     ]
    }
   ],
   "source": [
    "pip install streamlit-emoji-shortcodes"
   ]
  },
  {
   "cell_type": "code",
   "execution_count": 3,
   "id": "671783c8-3bee-4a89-b4f6-e8d395a1ceb8",
   "metadata": {},
   "outputs": [
    {
     "name": "stdout",
     "output_type": "stream",
     "text": [
      "Collecting emoji\n",
      "  Downloading emoji-2.14.1-py3-none-any.whl.metadata (5.7 kB)\n",
      "Downloading emoji-2.14.1-py3-none-any.whl (590 kB)\n",
      "   ---------------------------------------- 0.0/590.6 kB ? eta -:--:--\n",
      "   ----------------------------------- ---- 524.3/590.6 kB 3.3 MB/s eta 0:00:01\n",
      "   ---------------------------------------- 590.6/590.6 kB 1.5 MB/s eta 0:00:00\n",
      "Installing collected packages: emoji\n",
      "Successfully installed emoji-2.14.1\n",
      "Note: you may need to restart the kernel to use updated packages.\n"
     ]
    },
    {
     "name": "stderr",
     "output_type": "stream",
     "text": [
      "\n",
      "[notice] A new release of pip is available: 25.0 -> 25.0.1\n",
      "[notice] To update, run: python.exe -m pip install --upgrade pip\n"
     ]
    }
   ],
   "source": [
    "pip install emoji\n"
   ]
  },
  {
   "cell_type": "code",
   "execution_count": 5,
   "id": "def104b9-aa39-4580-ba9e-b92e472da2e5",
   "metadata": {},
   "outputs": [
    {
     "ename": "SyntaxError",
     "evalue": "invalid syntax (842801469.py, line 1)",
     "output_type": "error",
     "traceback": [
      "\u001b[1;36m  Cell \u001b[1;32mIn[5], line 1\u001b[1;36m\u001b[0m\n\u001b[1;33m    python.exe -m pip install --upgrade pip\u001b[0m\n\u001b[1;37m                  ^\u001b[0m\n\u001b[1;31mSyntaxError\u001b[0m\u001b[1;31m:\u001b[0m invalid syntax\n"
     ]
    }
   ],
   "source": [
    "python.exe -m pip install --upgrade pip"
   ]
  },
  {
   "cell_type": "code",
   "execution_count": null,
   "id": "329a76a8-de4c-4957-86b3-600e3b6722e7",
   "metadata": {},
   "outputs": [],
   "source": []
  }
 ],
 "metadata": {
  "kernelspec": {
   "display_name": "Python 3 (ipykernel)",
   "language": "python",
   "name": "python3"
  },
  "language_info": {
   "codemirror_mode": {
    "name": "ipython",
    "version": 3
   },
   "file_extension": ".py",
   "mimetype": "text/x-python",
   "name": "python",
   "nbconvert_exporter": "python",
   "pygments_lexer": "ipython3",
   "version": "3.12.4"
  }
 },
 "nbformat": 4,
 "nbformat_minor": 5
}
